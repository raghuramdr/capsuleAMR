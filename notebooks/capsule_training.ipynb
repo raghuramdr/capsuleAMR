{
 "cells": [
  {
   "cell_type": "code",
   "execution_count": 53,
   "id": "d28931f4",
   "metadata": {},
   "outputs": [],
   "source": [
    "import os\n",
    "import pandas as pd\n",
    "import random\n",
    "import time"
   ]
  },
  {
   "cell_type": "code",
   "execution_count": 2,
   "id": "90d60b8c",
   "metadata": {},
   "outputs": [],
   "source": [
    "import numpy as np\n",
    "from sklearn.model_selection import train_test_split\n",
    "from matplotlib import pyplot as plt"
   ]
  },
  {
   "cell_type": "code",
   "execution_count": 3,
   "id": "bd02d46c",
   "metadata": {},
   "outputs": [],
   "source": [
    "from collections import Counter"
   ]
  },
  {
   "cell_type": "code",
   "execution_count": 4,
   "id": "baff79b0",
   "metadata": {},
   "outputs": [],
   "source": [
    "label_dict = {\"Susceptible\": 0, \"Intermediate\": 1, \"Resistant\":1}"
   ]
  },
  {
   "cell_type": "code",
   "execution_count": 658,
   "id": "d8cdf20a",
   "metadata": {},
   "outputs": [],
   "source": [
    "df = pd.read_csv(\"staphylococcus_aureus/staphylococcus_gpa_cefoxitin_label.csv\")\n",
    "#Convert the string type labels to numeric entries\n",
    "y = df[\"Resistant Phenotype\"].map(label_dict).to_numpy()\n",
    "genome_id = df[\"Genome ID\"].to_list()"
   ]
  },
  {
   "cell_type": "code",
   "execution_count": 659,
   "id": "34fae6f6",
   "metadata": {},
   "outputs": [
    {
     "data": {
      "text/plain": [
       "Counter({'Susceptible': 232, 'Resistant': 838})"
      ]
     },
     "execution_count": 659,
     "metadata": {},
     "output_type": "execute_result"
    }
   ],
   "source": [
    "Counter(df[\"Resistant Phenotype\"])"
   ]
  },
  {
   "cell_type": "code",
   "execution_count": 660,
   "id": "fc3b278b",
   "metadata": {},
   "outputs": [
    {
     "data": {
      "text/html": [
       "<div>\n",
       "<style scoped>\n",
       "    .dataframe tbody tr th:only-of-type {\n",
       "        vertical-align: middle;\n",
       "    }\n",
       "\n",
       "    .dataframe tbody tr th {\n",
       "        vertical-align: top;\n",
       "    }\n",
       "\n",
       "    .dataframe thead th {\n",
       "        text-align: right;\n",
       "    }\n",
       "</style>\n",
       "<table border=\"1\" class=\"dataframe\">\n",
       "  <thead>\n",
       "    <tr style=\"text-align: right;\">\n",
       "      <th></th>\n",
       "      <th>spoVG</th>\n",
       "      <th>ilvD</th>\n",
       "      <th>arcB</th>\n",
       "      <th>mazG_2</th>\n",
       "      <th>group_1090</th>\n",
       "      <th>arcC</th>\n",
       "      <th>group_1149</th>\n",
       "      <th>group_1150</th>\n",
       "      <th>fadA</th>\n",
       "      <th>group_1312</th>\n",
       "      <th>...</th>\n",
       "      <th>group_9990</th>\n",
       "      <th>group_9991</th>\n",
       "      <th>group_9992</th>\n",
       "      <th>group_9993</th>\n",
       "      <th>group_9994</th>\n",
       "      <th>group_9995</th>\n",
       "      <th>group_9996</th>\n",
       "      <th>group_9997</th>\n",
       "      <th>group_9998</th>\n",
       "      <th>group_9999</th>\n",
       "    </tr>\n",
       "  </thead>\n",
       "  <tbody>\n",
       "    <tr>\n",
       "      <th>0</th>\n",
       "      <td>1</td>\n",
       "      <td>1</td>\n",
       "      <td>1</td>\n",
       "      <td>1</td>\n",
       "      <td>1</td>\n",
       "      <td>1</td>\n",
       "      <td>1</td>\n",
       "      <td>1</td>\n",
       "      <td>1</td>\n",
       "      <td>1</td>\n",
       "      <td>...</td>\n",
       "      <td>0</td>\n",
       "      <td>0</td>\n",
       "      <td>0</td>\n",
       "      <td>0</td>\n",
       "      <td>0</td>\n",
       "      <td>0</td>\n",
       "      <td>0</td>\n",
       "      <td>0</td>\n",
       "      <td>0</td>\n",
       "      <td>0</td>\n",
       "    </tr>\n",
       "    <tr>\n",
       "      <th>1</th>\n",
       "      <td>1</td>\n",
       "      <td>1</td>\n",
       "      <td>1</td>\n",
       "      <td>1</td>\n",
       "      <td>1</td>\n",
       "      <td>1</td>\n",
       "      <td>1</td>\n",
       "      <td>1</td>\n",
       "      <td>1</td>\n",
       "      <td>1</td>\n",
       "      <td>...</td>\n",
       "      <td>0</td>\n",
       "      <td>0</td>\n",
       "      <td>0</td>\n",
       "      <td>0</td>\n",
       "      <td>0</td>\n",
       "      <td>0</td>\n",
       "      <td>0</td>\n",
       "      <td>0</td>\n",
       "      <td>0</td>\n",
       "      <td>0</td>\n",
       "    </tr>\n",
       "    <tr>\n",
       "      <th>2</th>\n",
       "      <td>1</td>\n",
       "      <td>1</td>\n",
       "      <td>1</td>\n",
       "      <td>1</td>\n",
       "      <td>1</td>\n",
       "      <td>1</td>\n",
       "      <td>1</td>\n",
       "      <td>1</td>\n",
       "      <td>1</td>\n",
       "      <td>1</td>\n",
       "      <td>...</td>\n",
       "      <td>0</td>\n",
       "      <td>0</td>\n",
       "      <td>0</td>\n",
       "      <td>0</td>\n",
       "      <td>0</td>\n",
       "      <td>0</td>\n",
       "      <td>0</td>\n",
       "      <td>0</td>\n",
       "      <td>0</td>\n",
       "      <td>0</td>\n",
       "    </tr>\n",
       "    <tr>\n",
       "      <th>3</th>\n",
       "      <td>1</td>\n",
       "      <td>1</td>\n",
       "      <td>1</td>\n",
       "      <td>1</td>\n",
       "      <td>1</td>\n",
       "      <td>1</td>\n",
       "      <td>1</td>\n",
       "      <td>1</td>\n",
       "      <td>1</td>\n",
       "      <td>1</td>\n",
       "      <td>...</td>\n",
       "      <td>0</td>\n",
       "      <td>0</td>\n",
       "      <td>0</td>\n",
       "      <td>0</td>\n",
       "      <td>0</td>\n",
       "      <td>0</td>\n",
       "      <td>0</td>\n",
       "      <td>0</td>\n",
       "      <td>0</td>\n",
       "      <td>0</td>\n",
       "    </tr>\n",
       "    <tr>\n",
       "      <th>4</th>\n",
       "      <td>1</td>\n",
       "      <td>1</td>\n",
       "      <td>1</td>\n",
       "      <td>1</td>\n",
       "      <td>1</td>\n",
       "      <td>1</td>\n",
       "      <td>1</td>\n",
       "      <td>1</td>\n",
       "      <td>1</td>\n",
       "      <td>1</td>\n",
       "      <td>...</td>\n",
       "      <td>0</td>\n",
       "      <td>0</td>\n",
       "      <td>0</td>\n",
       "      <td>0</td>\n",
       "      <td>0</td>\n",
       "      <td>0</td>\n",
       "      <td>0</td>\n",
       "      <td>0</td>\n",
       "      <td>0</td>\n",
       "      <td>0</td>\n",
       "    </tr>\n",
       "  </tbody>\n",
       "</table>\n",
       "<p>5 rows × 21653 columns</p>\n",
       "</div>"
      ],
      "text/plain": [
       "   spoVG  ilvD  arcB  mazG_2  group_1090  arcC  group_1149  group_1150  fadA  \\\n",
       "0      1     1     1       1           1     1           1           1     1   \n",
       "1      1     1     1       1           1     1           1           1     1   \n",
       "2      1     1     1       1           1     1           1           1     1   \n",
       "3      1     1     1       1           1     1           1           1     1   \n",
       "4      1     1     1       1           1     1           1           1     1   \n",
       "\n",
       "   group_1312  ...  group_9990  group_9991  group_9992  group_9993  \\\n",
       "0           1  ...           0           0           0           0   \n",
       "1           1  ...           0           0           0           0   \n",
       "2           1  ...           0           0           0           0   \n",
       "3           1  ...           0           0           0           0   \n",
       "4           1  ...           0           0           0           0   \n",
       "\n",
       "   group_9994  group_9995  group_9996  group_9997  group_9998  group_9999  \n",
       "0           0           0           0           0           0           0  \n",
       "1           0           0           0           0           0           0  \n",
       "2           0           0           0           0           0           0  \n",
       "3           0           0           0           0           0           0  \n",
       "4           0           0           0           0           0           0  \n",
       "\n",
       "[5 rows x 21653 columns]"
      ]
     },
     "execution_count": 660,
     "metadata": {},
     "output_type": "execute_result"
    }
   ],
   "source": [
    "df.drop([\"Resistant Phenotype\", \"Genome ID\"], axis=1, inplace=True)\n",
    "df.head()"
   ]
  },
  {
   "cell_type": "code",
   "execution_count": 661,
   "id": "0e4d0e5c",
   "metadata": {},
   "outputs": [],
   "source": [
    "X = df.to_numpy()"
   ]
  },
  {
   "cell_type": "code",
   "execution_count": 662,
   "id": "0b6fe153",
   "metadata": {},
   "outputs": [],
   "source": [
    "X_train,X_test,y_train,y_test = train_test_split(X, y, random_state=42, shuffle=True, test_size=0.3, stratify=y )"
   ]
  },
  {
   "cell_type": "code",
   "execution_count": 663,
   "id": "145e3483",
   "metadata": {},
   "outputs": [
    {
     "data": {
      "text/plain": [
       "Counter({0: 162, 1: 587})"
      ]
     },
     "execution_count": 663,
     "metadata": {},
     "output_type": "execute_result"
    }
   ],
   "source": [
    "Counter(y_train)"
   ]
  },
  {
   "cell_type": "code",
   "execution_count": 664,
   "id": "457e26d3",
   "metadata": {},
   "outputs": [],
   "source": [
    "### Import the deep learning modules"
   ]
  },
  {
   "cell_type": "code",
   "execution_count": 665,
   "id": "ba82d3d7",
   "metadata": {},
   "outputs": [],
   "source": [
    "import torch\n",
    "import torch.nn.functional as F\n",
    "import torch.optim as optim\n",
    "\n",
    "\n",
    "from torch import nn\n",
    "from torch.nn.functional import relu\n",
    "from torch.autograd import Variable\n",
    "from torch.optim import Adam\n",
    "from torch.utils.data import TensorDataset, DataLoader, WeightedRandomSampler"
   ]
  },
  {
   "cell_type": "code",
   "execution_count": 666,
   "id": "7c273581",
   "metadata": {},
   "outputs": [],
   "source": [
    "def seed_torch(seed):\n",
    "    random.seed(seed)\n",
    "    os.environ['PYTHONHASHSEED'] = str(seed) #fix hash seed\n",
    "    np.random.seed(seed)\n",
    "    torch.manual_seed(seed)\n",
    "    torch.cuda.manual_seed(seed)\n",
    "    torch.cuda.manual_seed_all(seed) # if you are using multi-GPU.\n",
    "    torch.backends.cudnn.benchmark = False\n",
    "    torch.backends.cudnn.deterministic = True"
   ]
  },
  {
   "cell_type": "code",
   "execution_count": 667,
   "id": "f1e27dfc",
   "metadata": {},
   "outputs": [],
   "source": [
    "random_seed = 42\n",
    "seed_torch(random_seed)"
   ]
  },
  {
   "cell_type": "code",
   "execution_count": 668,
   "id": "0adab2c9",
   "metadata": {},
   "outputs": [],
   "source": [
    "###Define the Capsule Network here\n"
   ]
  },
  {
   "cell_type": "code",
   "execution_count": 669,
   "id": "f54899cd",
   "metadata": {},
   "outputs": [],
   "source": [
    "class ConvCaps2D(nn.Module):\n",
    "    def __init__(self):\n",
    "        super(ConvCaps2D, self).__init__()\n",
    "        self.capsules = nn.ModuleList([nn.Conv2d(in_channels=1, out_channels=primary_capslen,\n",
    "                                                kernel_size=(1, ks), stride=stride) for _ in range(filters)])\n",
    "        \n",
    "    \n",
    "    def squash(self, tensor, dim=1):\n",
    "        norm=(tensor**2).sum(dim=dim, keepdim=True)\n",
    "        scale=norm/(1+norm)\n",
    "        return scale*tensor/torch.sqrt(norm)\n",
    "    \n",
    "    def forward(self, x):\n",
    "        outputs = [capsule(x).view(x.size(0), primary_capslen, -1) for capsule in self.capsules] # 32 list of (None, 1, 8, 36)\n",
    "        outputs = torch.cat(outputs, dim = 2).permute(0, 2, 1)  # outputs.size() is (None, 1152, 8)\n",
    "        return self.squash(outputs)"
   ]
  },
  {
   "cell_type": "code",
   "execution_count": 670,
   "id": "f7f7dcd3",
   "metadata": {},
   "outputs": [],
   "source": [
    "class Caps1D(nn.Module):\n",
    "    def __init__(self):\n",
    "        super(Caps1D, self).__init__()\n",
    "        self.num_iterations = num_iterations\n",
    "        self.num_caps = 2 # equals to class number\n",
    "        self.num_routes= (int((neurons-ks)/stride)+1)*filters\n",
    "        self.in_channels=primary_capslen\n",
    "        self.out_channels=digital_capslen\n",
    "\n",
    "        self.W = nn.Parameter(torch.randn(self.num_caps,self.num_routes, self.in_channels, self.out_channels)) # class,weight,len_capsule,capsule_layer\n",
    "#         self.W = nn.Parameter(torch.randn(3, 3136, 8, 32)) # num_caps, num_routes, in_channels, out_channels\n",
    "\n",
    "    def softmax(self, x, dim = 1):\n",
    "        transposed_input = x.transpose(dim, len(x.size()) - 1)\n",
    "        softmaxed_output = F.softmax(transposed_input.contiguous().view(-1, transposed_input.size(-1)))\n",
    "        return softmaxed_output.view(*transposed_input.size()).transpose(dim, len(x.size()) - 1)\n",
    "\n",
    "    def squash(self, tensor, dim=-1):\n",
    "        norm = (tensor**2).sum(dim=dim, keepdim = True) # norm.size() is (None, 1152, 1)\n",
    "        scale = norm / (1 + norm)\n",
    "        return scale*tensor / torch.sqrt(norm)\n",
    "\n",
    "    # Routing algorithm\n",
    "    def forward(self, u):\n",
    "        # u.size() is (None, 1152, 8)\n",
    "        '''\n",
    "        From documentation\n",
    "        For example, if tensor1 is a j x 1 x n x m Tensor and tensor2 is a k x m x p Tensor,\n",
    "        out will be an j x k x n x p Tensor.\n",
    "        We need j = None, 1, n = 1152, k = 10, m = 8, p = 16\n",
    "        '''\n",
    "\n",
    "        u_ji = torch.matmul(u[:, None, :, None, :], self.W) # u_ji.size() is (None, 10, 1152, 1, 16)\n",
    "\n",
    "        b = Variable(torch.zeros(u_ji.size())) # b.size() is (None, 10, 1152, 1, 16)\n",
    "        b = b.to(device) # using gpu\n",
    "\n",
    "        for i in range(self.num_iterations):\n",
    "            c = self.softmax(b, dim=2)\n",
    "            v = self.squash((c * u_ji).sum(dim=2, keepdim=True)) # v.size() is (None, 10, 1, 1, 16)\n",
    "\n",
    "            if i != self.num_iterations - 1:\n",
    "                delta_b = (u_ji * v).sum(dim=-1, keepdim=True)\n",
    "                b = b + delta_b\n",
    "\n",
    "        # Now we simply compute the length of the vectors and take the softmax to get probability.\n",
    "        v = v.squeeze()\n",
    "        classes = (v ** 2).sum(dim=-1) ** 0.5\n",
    "        classes = F.softmax(classes)\n",
    "\n",
    "        return classes"
   ]
  },
  {
   "cell_type": "code",
   "execution_count": 671,
   "id": "aeffed2e",
   "metadata": {},
   "outputs": [],
   "source": [
    "class CapsNet(nn.Module):\n",
    "    def __init__(self):\n",
    "#         super().__init__() #py3\n",
    "        super(CapsNet, self).__init__() #py2\n",
    "        self.fc1 = nn.Linear(top_k,neurons)  ##21653 because there are 21653 genes for S.aureus\n",
    "        self.dropout1 = nn.Dropout(p=dropout)\n",
    "        self.primaryCaps = ConvCaps2D()\n",
    "        self.digitCaps = Caps1D()\n",
    "\n",
    "\n",
    "    def forward(self, x):\n",
    "        x = activation(self.dropout1(self.fc1(x)))\n",
    "        x = self.primaryCaps(x)\n",
    "        x = self.digitCaps(x)\n",
    "        return x"
   ]
  },
  {
   "cell_type": "code",
   "execution_count": 672,
   "id": "446225b1",
   "metadata": {},
   "outputs": [],
   "source": [
    "device = torch.device(\"cuda\" if torch.cuda.is_available() else \"cpu\")"
   ]
  },
  {
   "cell_type": "code",
   "execution_count": 673,
   "id": "1941b39b",
   "metadata": {},
   "outputs": [],
   "source": [
    "from livelossplot import PlotLosses\n",
    "from torchsummary import summary"
   ]
  },
  {
   "cell_type": "code",
   "execution_count": 674,
   "id": "b41d6bbe",
   "metadata": {},
   "outputs": [],
   "source": [
    "def train_model(model, criterion, optimizer, num_epochs=20):\n",
    "    liveloss = PlotLosses()\n",
    "    model = model.to(device)\n",
    "\n",
    "    for epoch in range(num_epochs):\n",
    "        logs = {}\n",
    "        for phase in ['train', 'validation']:\n",
    "            if phase == 'train':\n",
    "                model.train()\n",
    "\n",
    "            else:\n",
    "                model.eval()\n",
    "\n",
    "            running_loss = 0.0\n",
    "            running_corrects = 0\n",
    "\n",
    "            for inputs, labels in dataloaders[phase]:\n",
    "                inputs = inputs.to(device)\n",
    "                labels = labels.type(torch.LongTensor)\n",
    "                labels = labels.to(device)\n",
    "\n",
    "                outputs = model(inputs)\n",
    "                loss = criterion(outputs, labels)\n",
    "\n",
    "                if phase == 'train':\n",
    "                    optimizer.zero_grad()\n",
    "                    loss.backward()\n",
    "                    optimizer.step()\n",
    "\n",
    "                _, preds = torch.max(outputs, 1)\n",
    "                running_loss += loss.detach() * inputs.size(0)\n",
    "                running_corrects += torch.sum(preds == labels.data)\n",
    "\n",
    "            epoch_loss = running_loss / len(dataloaders[phase].dataset)\n",
    "            epoch_acc = running_corrects.float() / len(dataloaders[phase].dataset)\n",
    "\n",
    "            prefix = ''\n",
    "            if phase == 'validation':\n",
    "                prefix = 'val_'\n",
    "\n",
    "            logs[prefix + 'log loss'] = epoch_loss.item()\n",
    "            logs[prefix + 'accuracy'] = epoch_acc.item()\n",
    "        scheduler.step()\n",
    "        liveloss.update(logs)\n",
    "        liveloss.draw()"
   ]
  },
  {
   "cell_type": "code",
   "execution_count": 675,
   "id": "0d323fb4",
   "metadata": {},
   "outputs": [],
   "source": [
    "neurons=150\n",
    "dropout=0.5\n",
    "primary_capslen=8\n",
    "digital_capslen=32\n",
    "ks=5\n",
    "stride=2\n",
    "filters=6\n",
    "num_iterations=6#dynamic routing iterations\n",
    "\n",
    "##\n",
    "initial_lr=5e-1\n",
    "batch_size=128\n",
    "epochs=200\n",
    "activation=relu\n",
    "top_k = X.shape[1]"
   ]
  },
  {
   "cell_type": "code",
   "execution_count": 676,
   "id": "3557b3c9",
   "metadata": {},
   "outputs": [],
   "source": [
    "X_train=X_train.reshape(X_train.shape[0],1,1,top_k)\n",
    "X_test=X_test.reshape(X_test.shape[0],1,1,top_k)"
   ]
  },
  {
   "cell_type": "code",
   "execution_count": 677,
   "id": "a5d530db",
   "metadata": {},
   "outputs": [
    {
     "data": {
      "text/plain": [
       "(321, 1, 1, 21653)"
      ]
     },
     "execution_count": 677,
     "metadata": {},
     "output_type": "execute_result"
    }
   ],
   "source": [
    "X_test.shape"
   ]
  },
  {
   "cell_type": "code",
   "execution_count": 678,
   "id": "bc6c34ec",
   "metadata": {},
   "outputs": [],
   "source": [
    "class_sample_count = np.array(\n",
    "    [len(np.where(y_train == t)[0]) for t in np.unique(y_train)])\n",
    "\n",
    "weight = 1./class_sample_count\n",
    "\n",
    "samples_weight = np.array([weight[t] for t in y_train])\n",
    "samples_weight = torch.from_numpy(samples_weight)"
   ]
  },
  {
   "cell_type": "code",
   "execution_count": 679,
   "id": "02c98a72",
   "metadata": {},
   "outputs": [
    {
     "data": {
      "text/plain": [
       "array([162, 587])"
      ]
     },
     "execution_count": 679,
     "metadata": {},
     "output_type": "execute_result"
    }
   ],
   "source": [
    "class_sample_count"
   ]
  },
  {
   "cell_type": "code",
   "execution_count": 680,
   "id": "572320de",
   "metadata": {},
   "outputs": [],
   "source": [
    "sampler = WeightedRandomSampler(samples_weight.type('torch.DoubleTensor'), len(samples_weight), replacement=True)"
   ]
  },
  {
   "cell_type": "code",
   "execution_count": 681,
   "id": "b493b838",
   "metadata": {},
   "outputs": [],
   "source": [
    "trainloader = DataLoader(TensorDataset(torch.Tensor(X_train), torch.Tensor(y_train)),\n",
    "                         batch_size=batch_size, sampler=sampler, shuffle=False)\n",
    "testloader = DataLoader(TensorDataset(torch.Tensor(X_test), torch.Tensor(y_test)),\n",
    "                         batch_size=batch_size, shuffle=False)"
   ]
  },
  {
   "cell_type": "code",
   "execution_count": 682,
   "id": "da6c0112",
   "metadata": {},
   "outputs": [],
   "source": [
    "dataloaders = {\n",
    "    \"train\": trainloader,\n",
    "    \"validation\": testloader\n",
    "}"
   ]
  },
  {
   "cell_type": "code",
   "execution_count": 683,
   "id": "edb57409",
   "metadata": {},
   "outputs": [],
   "source": [
    "model = CapsNet()\n",
    "criterion = nn.CrossEntropyLoss()\n",
    "#optimizer = optim.Adam(model.parameters(), lr=initial_lr)\n",
    "#scheduler=torch.optim.lr_scheduler.ExponentialLR(optimizer,gamma=0.8)\n",
    "optimizer = optim.SGD(model.parameters(), lr=initial_lr, momentum=0.9)"
   ]
  },
  {
   "cell_type": "code",
   "execution_count": 684,
   "id": "c2b887da",
   "metadata": {},
   "outputs": [
    {
     "data": {
      "image/png": "[encoded data removed]",
      "text/plain": [
       "<Figure size 1200x800 with 2 Axes>"
      ]
     },
     "metadata": {},
     "output_type": "display_data"
    },
    {
     "name": "stdout",
     "output_type": "stream",
     "text": [
      "accuracy\n",
      "\ttraining         \t (min:    0.485, max:    0.989, cur:    0.977)\n",
      "\tvalidation       \t (min:    0.218, max:    0.981, cur:    0.981)\n",
      "log loss\n",
      "\ttraining         \t (min:    0.692, max:    0.693, cur:    0.692)\n",
      "\tvalidation       \t (min:    0.691, max:    0.693, cur:    0.691)\n"
     ]
    }
   ],
   "source": [
    "train_model(model, criterion, optimizer, num_epochs=epochs)"
   ]
  },
  {
   "cell_type": "code",
   "execution_count": 685,
   "id": "2d002ea2",
   "metadata": {},
   "outputs": [],
   "source": [
    "from sklearn.metrics import confusion_matrix, RocCurveDisplay"
   ]
  },
  {
   "cell_type": "code",
   "execution_count": 686,
   "id": "e7ca2516",
   "metadata": {},
   "outputs": [
    {
     "name": "stderr",
     "output_type": "stream",
     "text": [
      "/tmp/ipykernel_175749/3741472792.py:15: UserWarning: Implicit dimension choice for softmax has been deprecated. Change the call to include dim=X as an argument.\n",
      "  softmaxed_output = F.softmax(transposed_input.contiguous().view(-1, transposed_input.size(-1)))\n",
      "/tmp/ipykernel_175749/3741472792.py:49: UserWarning: Implicit dimension choice for softmax has been deprecated. Change the call to include dim=X as an argument.\n",
      "  classes = F.softmax(classes)\n"
     ]
    }
   ],
   "source": [
    "in_test=Variable(torch.tensor(X_test).to(device))\n",
    "y_pred1 = model(torch.Tensor(X_test).cuda()).detach().cpu().numpy()\n",
    "y_pred = np.argmax(y_pred1, axis=1)\n",
    "\n",
    "#y_pred=np.concatenate([y_pred,y_pred1])\n",
    "y_true = y_test\n",
    "\n",
    "tn, fp, fn, tp = confusion_matrix(y_true, y_pred).ravel()\n",
    "\n",
    "\n",
    "acc = round((tp + tn) * 1. / (tp + fp + tn + fn),3)\n",
    "precision = round(tp*1./(tp+fp),3)\n",
    "recall = round(tp*1./(tp+fn),3)\n",
    "f1=round(2*(precision*recall)/(precision+recall),3)"
   ]
  },
  {
   "cell_type": "code",
   "execution_count": 687,
   "id": "79e60bd7",
   "metadata": {},
   "outputs": [
    {
     "name": "stdout",
     "output_type": "stream",
     "text": [
      "Accuracy is 0.981\n",
      "Precision is 0.98\n",
      "Recall is 0.996\n",
      "F1 score is 0.988\n"
     ]
    }
   ],
   "source": [
    "print(\"Accuracy is {}\".format(acc))\n",
    "print(\"Precision is {}\".format(precision))\n",
    "print(\"Recall is {}\".format(recall))\n",
    "print(\"F1 score is {}\".format(f1))"
   ]
  },
  {
   "cell_type": "code",
   "execution_count": 688,
   "id": "a0f66fd8",
   "metadata": {},
   "outputs": [
    {
     "name": "stdout",
     "output_type": "stream",
     "text": [
      "The confusion matrix is [[ 65   5]\n",
      " [  1 250]]\n"
     ]
    }
   ],
   "source": [
    "CM = confusion_matrix(y_test, y_pred)\n",
    "print(\"The confusion matrix is {}\".format(CM))"
   ]
  },
  {
   "cell_type": "code",
   "execution_count": 689,
   "id": "b4be3009",
   "metadata": {},
   "outputs": [
    {
     "data": {
      "text/plain": [
       "<sklearn.metrics._plot.roc_curve.RocCurveDisplay at 0x7f5c6ad0f550>"
      ]
     },
     "execution_count": 689,
     "metadata": {},
     "output_type": "execute_result"
    },
    {
     "data": {
      "image/png": "[encoded data removed]",
      "text/plain": [
       "<Figure size 640x480 with 1 Axes>"
      ]
     },
     "metadata": {},
     "output_type": "display_data"
    }
   ],
   "source": [
    "RocCurveDisplay.from_predictions(y_test, y_pred)"
   ]
  },
  {
   "cell_type": "code",
   "execution_count": 691,
   "id": "e8e2ec75",
   "metadata": {},
   "outputs": [
    {
     "name": "stdout",
     "output_type": "stream",
     "text": [
      "Python 3.10.6\r\n"
     ]
    }
   ],
   "source": [
    "!python --version"
   ]
  },
  {
   "cell_type": "code",
   "execution_count": 694,
   "id": "95450360",
   "metadata": {},
   "outputs": [
    {
     "data": {
      "text/plain": [
       "'1.12.1+cu116'"
      ]
     },
     "execution_count": 694,
     "metadata": {},
     "output_type": "execute_result"
    }
   ],
   "source": [
    "torch.__version__"
   ]
  },
  {
   "cell_type": "code",
   "execution_count": null,
   "id": "23d8bd43",
   "metadata": {},
   "outputs": [],
   "source": []
  }
 ],
 "metadata": {
  "kernelspec": {
   "display_name": "Python 3 (ipykernel)",
   "language": "python",
   "name": "python3"
  },
  "language_info": {
   "codemirror_mode": {
    "name": "ipython",
    "version": 3
   },
   "file_extension": ".py",
   "mimetype": "text/x-python",
   "name": "python",
   "nbconvert_exporter": "python",
   "pygments_lexer": "ipython3",
   "version": "3.10.6"
  }
 },
 "nbformat": 4,
 "nbformat_minor": 5
}
